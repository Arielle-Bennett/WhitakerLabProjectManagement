{
 "cells": [
  {
   "cell_type": "markdown",
   "metadata": {},
   "source": [
    "# Make a new month template for Kirstie's where.md file"
   ]
  },
  {
   "cell_type": "code",
   "execution_count": 1,
   "metadata": {},
   "outputs": [],
   "source": [
    "def get_day_dict():\n",
    "    \n",
    "    day_dict = { 'Mon'   : (':uk: London, UK', 'Working at Turing Institute'),\n",
    "                 'Tue'   : (':mortar_board: Cambridge, UK', 'Working in Cambridge'),\n",
    "                 'Wed'   : (':uk: London, UK', 'Working at Turing Institute'),\n",
    "                 'Thurs' : (':uk: London, UK', 'Working at Turing Institute'),\n",
    "                 'Fri'   : (':uk: London, UK', 'Working at Turing Institute'),\n",
    "                 'Sat'   : (':dog: Greenwich, UK', 'Weekend relaxing'),\n",
    "                 'Sun'   : (':dog: Greenwich, UK', 'Weekend relaxing') }\n",
    "\n",
    "    return day_dict\n",
    "\n",
    "def get_day_list():\n",
    "    \n",
    "    day_list = [ 'Mon', 'Tue', 'Wed', 'Thurs', 'Fri', 'Sat', 'Sun' ]\n",
    "    \n",
    "    return day_list"
   ]
  },
  {
   "cell_type": "code",
   "execution_count": 2,
   "metadata": {},
   "outputs": [],
   "source": [
    "def new_month(first_day='Mon'):\n",
    "    \n",
    "    day_dict = get_day_dict()\n",
    "    \n",
    "    day_list = get_day_list()\n",
    "\n",
    "    # Figure out where to start the days for that month\n",
    "    day_counter = day_list.index(first_day)\n",
    "\n",
    "    first_line = 'Date | Day   | City, Country                | Event'\n",
    "    print (first_line)\n",
    "    \n",
    "    second_line = '---- | ----- | ---------------------------- | -----'\n",
    "    print (second_line)\n",
    "    \n",
    "    remaining_lines_list = []\n",
    "    \n",
    "    for i in range(31):\n",
    "        \n",
    "        day_counter = day_counter%7\n",
    "        \n",
    "        day = day_list[day_counter]\n",
    "        location = day_dict[day][0]\n",
    "        event = day_dict[day][1]\n",
    "        \n",
    "        row = '{:<4} | {:<5} | {:<28} | {:<30}'.format(i+1, day, location, event)\n",
    "        \n",
    "        print(row)\n",
    "        \n",
    "        remaining_lines_list += row\n",
    "        \n",
    "        # Step the day counter up by one\n",
    "        # before running the next loop\n",
    "        day_counter = day_counter+1\n"
   ]
  },
  {
   "cell_type": "code",
   "execution_count": 9,
   "metadata": {},
   "outputs": [
    {
     "name": "stdout",
     "output_type": "stream",
     "text": [
      "Date | Day   | City, Country                | Event\n",
      "---- | ----- | ---------------------------- | -----\n",
      "1    | Thurs | :uk: London, UK              | Working at Turing Institute   \n",
      "2    | Fri   | :uk: London, UK              | Working at Turing Institute   \n",
      "3    | Sat   | :dog: Greenwich, UK          | Weekend relaxing              \n",
      "4    | Sun   | :dog: Greenwich, UK          | Weekend relaxing              \n",
      "5    | Mon   | :uk: London, UK              | Working at Turing Institute   \n",
      "6    | Tue   | :mortar_board: Cambridge, UK | Working in Cambridge          \n",
      "7    | Wed   | :uk: London, UK              | Working at Turing Institute   \n",
      "8    | Thurs | :uk: London, UK              | Working at Turing Institute   \n",
      "9    | Fri   | :uk: London, UK              | Working at Turing Institute   \n",
      "10   | Sat   | :dog: Greenwich, UK          | Weekend relaxing              \n",
      "11   | Sun   | :dog: Greenwich, UK          | Weekend relaxing              \n",
      "12   | Mon   | :uk: London, UK              | Working at Turing Institute   \n",
      "13   | Tue   | :mortar_board: Cambridge, UK | Working in Cambridge          \n",
      "14   | Wed   | :uk: London, UK              | Working at Turing Institute   \n",
      "15   | Thurs | :uk: London, UK              | Working at Turing Institute   \n",
      "16   | Fri   | :uk: London, UK              | Working at Turing Institute   \n",
      "17   | Sat   | :dog: Greenwich, UK          | Weekend relaxing              \n",
      "18   | Sun   | :dog: Greenwich, UK          | Weekend relaxing              \n",
      "19   | Mon   | :uk: London, UK              | Working at Turing Institute   \n",
      "20   | Tue   | :mortar_board: Cambridge, UK | Working in Cambridge          \n",
      "21   | Wed   | :uk: London, UK              | Working at Turing Institute   \n",
      "22   | Thurs | :uk: London, UK              | Working at Turing Institute   \n",
      "23   | Fri   | :uk: London, UK              | Working at Turing Institute   \n",
      "24   | Sat   | :dog: Greenwich, UK          | Weekend relaxing              \n",
      "25   | Sun   | :dog: Greenwich, UK          | Weekend relaxing              \n",
      "26   | Mon   | :uk: London, UK              | Working at Turing Institute   \n",
      "27   | Tue   | :mortar_board: Cambridge, UK | Working in Cambridge          \n",
      "28   | Wed   | :uk: London, UK              | Working at Turing Institute   \n",
      "29   | Thurs | :uk: London, UK              | Working at Turing Institute   \n",
      "30   | Fri   | :uk: London, UK              | Working at Turing Institute   \n",
      "31   | Sat   | :dog: Greenwich, UK          | Weekend relaxing              \n"
     ]
    }
   ],
   "source": [
    "new_month('Thurs')"
   ]
  },
  {
   "cell_type": "code",
   "execution_count": null,
   "metadata": {},
   "outputs": [],
   "source": []
  },
  {
   "cell_type": "code",
   "execution_count": null,
   "metadata": {},
   "outputs": [],
   "source": []
  },
  {
   "cell_type": "code",
   "execution_count": null,
   "metadata": {},
   "outputs": [],
   "source": []
  }
 ],
 "metadata": {
  "anaconda-cloud": {},
  "kernelspec": {
   "display_name": "Python [default]",
   "language": "python",
   "name": "python3"
  },
  "language_info": {
   "codemirror_mode": {
    "name": "ipython",
    "version": 3
   },
   "file_extension": ".py",
   "mimetype": "text/x-python",
   "name": "python",
   "nbconvert_exporter": "python",
   "pygments_lexer": "ipython3",
   "version": "3.5.5"
  }
 },
 "nbformat": 4,
 "nbformat_minor": 2
}
